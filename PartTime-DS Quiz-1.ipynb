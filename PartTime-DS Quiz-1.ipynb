{
 "cells": [
  {
   "cell_type": "markdown",
   "metadata": {},
   "source": [
    "# Byte Academy - Python Programming Quiz - 1)\n",
    "**For Parttime -DataScience Batch Mar to Sept,2019 Cohort-21**\n",
    "* *Conducted on 30-03-2019*\n",
    "* *Name of Participant :*"
   ]
  },
  {
   "cell_type": "markdown",
   "metadata": {},
   "source": [
    "**Problem -1)**\n",
    "\n",
    "Write a program which can compute the factorial of a given numbers.<br>\n",
    "Suppose the following input is supplied to the program:<br>\n",
    "8<br>\n",
    "Then, the output should be:<br>\n",
    "40320\n"
   ]
  },
  {
   "cell_type": "code",
   "execution_count": null,
   "metadata": {},
   "outputs": [],
   "source": []
  },
  {
   "cell_type": "markdown",
   "metadata": {},
   "source": [
    "**Problem -2)**\n",
    "\n",
    "Define a class which has at least two methods:\n",
    "* getString: to get a string from console input\n",
    "* printString: to print the string in upper case.<br>\n",
    "Also please include simple test function to test the class methods."
   ]
  },
  {
   "cell_type": "code",
   "execution_count": null,
   "metadata": {},
   "outputs": [],
   "source": []
  },
  {
   "cell_type": "markdown",
   "metadata": {},
   "source": [
    "**Problem -3)**<br>\n",
    "Define a class named Rectangle which can be constructed by a length and width. <br>\n",
    "The Rectangle class has a method which can compute the area. \n"
   ]
  },
  {
   "cell_type": "code",
   "execution_count": null,
   "metadata": {},
   "outputs": [],
   "source": []
  },
  {
   "cell_type": "markdown",
   "metadata": {},
   "source": [
    "**Problem-4)**<br>\n",
    "With two given lists \\[1,3,6,78,35,55] and [12,24,35,24,88,120,155],<br> write a program to make a list whose elements are intersection of the above given lists."
   ]
  },
  {
   "cell_type": "code",
   "execution_count": null,
   "metadata": {},
   "outputs": [],
   "source": []
  },
  {
   "cell_type": "markdown",
   "metadata": {},
   "source": [
    "**Problem-5)** \n",
    "\n",
    "Write a program to solve a classic ancient Chinese puzzle: <br>\n",
    "We count 35 heads and 94 legs among the chickens and rabbits in a farm. How many rabbits and how many chickens do we have?"
   ]
  },
  {
   "cell_type": "code",
   "execution_count": null,
   "metadata": {},
   "outputs": [],
   "source": []
  }
 ],
 "metadata": {
  "kernelspec": {
   "display_name": "Python 3",
   "language": "python",
   "name": "python3"
  },
  "language_info": {
   "codemirror_mode": {
    "name": "ipython",
    "version": 3
   },
   "file_extension": ".py",
   "mimetype": "text/x-python",
   "name": "python",
   "nbconvert_exporter": "python",
   "pygments_lexer": "ipython3",
   "version": "3.7.2"
  }
 },
 "nbformat": 4,
 "nbformat_minor": 2
}
